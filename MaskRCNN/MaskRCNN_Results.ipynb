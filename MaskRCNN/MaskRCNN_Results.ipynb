{
  "cells": [
    {
      "cell_type": "markdown",
      "metadata": {
        "id": "l-boQjzzaoBr"
      },
      "source": [
        "# Part A Run get all Needed Functions"
      ]
    },
    {
      "cell_type": "code",
      "execution_count": 1,
      "metadata": {
        "colab": {
          "base_uri": "https://localhost:8080/"
        },
        "id": "JClIXELMeMj7",
        "outputId": "3746ffeb-d703-49e0-d218-50d6523c889f"
      },
      "outputs": [
        {
          "name": "stdout",
          "output_type": "stream",
          "text": [
            "Looking in indexes: https://pypi.org/simple, https://us-python.pkg.dev/colab-wheels/public/simple/\n",
            "Requirement already satisfied: gdown in /usr/local/lib/python3.8/dist-packages (4.4.0)\n",
            "Collecting gdown\n",
            "  Downloading gdown-4.6.0-py3-none-any.whl (14 kB)\n",
            "Requirement already satisfied: filelock in /usr/local/lib/python3.8/dist-packages (from gdown) (3.8.2)\n",
            "Requirement already satisfied: beautifulsoup4 in /usr/local/lib/python3.8/dist-packages (from gdown) (4.6.3)\n",
            "Requirement already satisfied: requests[socks] in /usr/local/lib/python3.8/dist-packages (from gdown) (2.23.0)\n",
            "Requirement already satisfied: tqdm in /usr/local/lib/python3.8/dist-packages (from gdown) (4.64.1)\n",
            "Requirement already satisfied: six in /usr/local/lib/python3.8/dist-packages (from gdown) (1.15.0)\n",
            "Requirement already satisfied: certifi>=2017.4.17 in /usr/local/lib/python3.8/dist-packages (from requests[socks]->gdown) (2022.12.7)\n",
            "Requirement already satisfied: urllib3!=1.25.0,!=1.25.1,<1.26,>=1.21.1 in /usr/local/lib/python3.8/dist-packages (from requests[socks]->gdown) (1.24.3)\n",
            "Requirement already satisfied: chardet<4,>=3.0.2 in /usr/local/lib/python3.8/dist-packages (from requests[socks]->gdown) (3.0.4)\n",
            "Requirement already satisfied: idna<3,>=2.5 in /usr/local/lib/python3.8/dist-packages (from requests[socks]->gdown) (2.10)\n",
            "Requirement already satisfied: PySocks!=1.5.7,>=1.5.6 in /usr/local/lib/python3.8/dist-packages (from requests[socks]->gdown) (1.7.1)\n",
            "Installing collected packages: gdown\n",
            "  Attempting uninstall: gdown\n",
            "    Found existing installation: gdown 4.4.0\n",
            "    Uninstalling gdown-4.4.0:\n",
            "      Successfully uninstalled gdown-4.4.0\n",
            "Successfully installed gdown-4.6.0\n",
            "Downloading...\n",
            "From: https://drive.google.com/uc?id=1YuFkOkeZ_3iaf71W1QfaZqqO9nZq_QUy\n",
            "To: /content/hw3_mycocodata_mask_comp_zlib.h5\n",
            "100% 4.30M/4.30M [00:00<00:00, 133MB/s]\n",
            "Downloading...\n",
            "From: https://drive.google.com/uc?id=1PDctbNuLSpxVU6MA-Qy6Unf_Q-bQf0jd\n",
            "To: /content/hw3_mycocodata_labels_comp_zlib.npy\n",
            "100% 269k/269k [00:00<00:00, 96.1MB/s]\n",
            "Downloading...\n",
            "From: https://drive.google.com/uc?id=1_fR9WLy10WRzlZQBaMv8BFkT4f_4xr99\n",
            "To: /content/hw3_mycocodata_img_comp_zlib.h5\n",
            "100% 801M/801M [00:08<00:00, 95.9MB/s]\n",
            "Downloading...\n",
            "From: https://drive.google.com/uc?id=1oSiBPjyxMOaC496rLVQA-xG-fgK1ulcA\n",
            "To: /content/hw3_mycocodata_bboxes_comp_zlib.npy\n",
            "100% 327k/327k [00:00<00:00, 115MB/s]\n",
            "Downloading...\n",
            "From: https://drive.google.com/uc?id=1h6VQWmbq41cJ9O1WdRalc8iOsox2HCeO\n",
            "To: /content/checkpoint680.pth\n",
            "100% 110M/110M [00:03<00:00, 35.0MB/s]\n"
          ]
        }
      ],
      "source": [
        "!pip install --upgrade --no-cache-dir gdown\n",
        "!pip install pytorch_lightning &> /dev/null\n",
        "!gdown 1YuFkOkeZ_3iaf71W1QfaZqqO9nZq_QUy\n",
        "!gdown 1PDctbNuLSpxVU6MA-Qy6Unf_Q-bQf0jd\n",
        "!gdown 1_fR9WLy10WRzlZQBaMv8BFkT4f_4xr99\n",
        "!gdown 1oSiBPjyxMOaC496rLVQA-xG-fgK1ulcA\n",
        "!gdown 1h6VQWmbq41cJ9O1WdRalc8iOsox2HCeO # pretrained backbone"
      ]
    },
    {
      "cell_type": "code",
      "execution_count": 2,
      "metadata": {
        "id": "YImL4LNReNXd"
      },
      "outputs": [],
      "source": [
        "from sklearn import metrics\n",
        "from functools import partial\n",
        "import matplotlib.pyplot as plt\n",
        "from matplotlib.colors import ListedColormap\n",
        "from matplotlib.patches import Rectangle\n",
        "import cv2\n",
        "import numpy as np\n",
        "import torch\n",
        "import torch.nn as nn\n",
        "import torchvision\n",
        "from torchvision import transforms\n",
        "import pytorch_lightning as pl\n",
        "import pytorch_lightning.loggers as pl_loggers\n",
        "import pytorch_lightning.callbacks as pl_callbacks\n",
        "from inspect import modulesbyfile\n",
        "from tqdm import tqdm\n",
        "import h5py\n",
        "import albumentations as A\n",
        "from PIL import Image\n",
        "from skimage.transform import resize\n",
        "import warnings\n",
        "from torchvision.models.detection.image_list import ImageList\n",
        "from MaskHead import *\n",
        "warnings.filterwarnings('ignore')\n",
        "torch.set_printoptions(linewidth=100)\n",
        "\n",
        "np.set_printoptions(linewidth=100)\n",
        "# CUDA for PyTorch\n",
        "use_cuda = torch.cuda.is_available()\n",
        "device = torch.device(\"cuda:0\" if use_cuda else \"cpu\")\n",
        "seed = 17\n",
        "torch.manual_seed(seed);"
      ]
    },
    {
      "cell_type": "code",
      "execution_count": 3,
      "metadata": {
        "colab": {
          "base_uri": "https://localhost:8080/"
        },
        "id": "4evxcYV3iJeH",
        "outputId": "2ad1e072-c163-437f-9f58-2ca1a6513972"
      },
      "outputs": [
        {
          "name": "stdout",
          "output_type": "stream",
          "text": [
            "Mounted at /content/drive\n"
          ]
        }
      ],
      "source": [
        "from google.colab import drive\n",
        "drive.mount('/content/drive')"
      ]
    },
    {
      "cell_type": "markdown",
      "metadata": {
        "id": "fNp2ATyDaWNw"
      },
      "source": [
        "# Part B Run to Train model"
      ]
    },
    {
      "cell_type": "code",
      "execution_count": 13,
      "metadata": {
        "colab": {
          "base_uri": "https://localhost:8080/",
          "height": 66,
          "referenced_widgets": [
            "8a011c2cecf14fc4a13cdf0998f70474",
            "21d221331f52425ab58f0fb59fe98372",
            "6d536df5157d4ef6b30e1ef276169848",
            "d61de0e11449470dbc3da8d95efd067f",
            "26e88027b3a34331ade91c8a63b21818",
            "8ad6c62c10804edab202c4acd018a38f",
            "c1af66f0ad2e4a4780a338057ad92e9d",
            "38934b9845614c6bbc7135042b4dc871",
            "ef7a655335464adaa1ff33019c41fc31",
            "d01b7982a42440b5aabb222d1220fd53",
            "3b74446bc2fe42b1a9db6751c8dec32e"
          ]
        },
        "id": "ndqlLVz_ejlR",
        "outputId": "2b2ef7e3-6ad5-4ec5-d7b0-2a1ad5f48068"
      },
      "outputs": [
        {
          "name": "stderr",
          "output_type": "stream",
          "text": [
            "Downloading: \"https://download.pytorch.org/models/resnet50-0676ba61.pth\" to /root/.cache/torch/hub/checkpoints/resnet50-0676ba61.pth\n"
          ]
        },
        {
          "data": {
            "application/vnd.jupyter.widget-view+json": {
              "model_id": "8a011c2cecf14fc4a13cdf0998f70474",
              "version_major": 2,
              "version_minor": 0
            },
            "text/plain": [
              "  0%|          | 0.00/97.8M [00:00<?, ?B/s]"
            ]
          },
          "metadata": {},
          "output_type": "display_data"
        }
      ],
      "source": [
        "# load the data into data.Dataset\n",
        "device = 'cuda'\n",
        "\n",
        "labels_og, bbox_og, imgs, masks_og= load_datset(viz=False)\n",
        "dataset = BuildDataset(imgs, labels_og, bbox_og, masks_og)\n",
        "pretrained_path='checkpoint680.pth'\n",
        "backbone, rpn = pretrained_models_680(pretrained_path)\n",
        "\n",
        "# build the dataloader\n",
        "# set 20% of the dataset as the training data\n",
        "full_size = len(dataset)\n",
        "train_size = int(full_size * 0.8)\n",
        "test_size = full_size - train_size\n",
        "\n",
        "# random split the dataset into training and testset\n",
        "train_dataset, test_dataset = torch.utils.data.random_split(dataset, [train_size, test_size])\n",
        "masknet = MaskHead().to(device)\n",
        "\n",
        "# push the randomized training data into the dataloader\n",
        "batch_size = 1\n",
        "train_loader = torch.utils.data.DataLoader(train_dataset, batch_size=batch_size, shuffle=True, collate_fn=dataset.collate_fn)\n",
        "test_loader = torch.utils.data.DataLoader(test_dataset, batch_size=batch_size, shuffle=False, collate_fn=dataset.collate_fn)\n",
        "batch_tr = len(train_loader)\n",
        "batch_val = len(test_loader)"
      ]
    },
    {
      "cell_type": "code",
      "execution_count": 15,
      "metadata": {
        "colab": {
          "base_uri": "https://localhost:8080/",
          "height": 379,
          "referenced_widgets": [
            "033e29e7320d4c57b970eddb08956fe8",
            "16864f4229de4a25b9193093b7a886e6",
            "ca0ba59caffc4d3abd7950369e2b9423",
            "d8f42d4d7c284f549038de74ea12c05a",
            "e7347d80d2174c7a944a0d5e6a83c5b4",
            "c73b4e4fbc3744acae61c6acd6cec0a5",
            "79bb915b3b3f464a9bd1e6a34275f224",
            "a5185e5c8bd54a24a576638873dfdeea",
            "f424512c230c411fac650940269c59cb",
            "639544abcc4a4a7baa56c063ee2b9067",
            "398f3a67c3604bab9cbc34eaace1400f",
            "c601fcb93d944793a1a869846abfc1bc",
            "17f3b357a6574f72a5eb1fe0a2b9cd8a",
            "356f27a0e0b741d79add137efa838fe4",
            "d6afe0f89fb743518fb712b46c052c9a",
            "72b010177c174eb1af5e6ab134105be5",
            "6e4b0c7380bd4599afdd8556e12a1771",
            "4d4696b4ede244a2939ef5c46cbee9a5",
            "c7d53688907147fe9e08552a8b48e73f",
            "1a8c02f2aaf74067b0229529430ea73a",
            "bea075a6a33144a1b45ada3e2fa40aba",
            "868622047bb349b9a325c2f0a4514d70"
          ]
        },
        "id": "frOwZ95KSJnk",
        "outputId": "3f8207bf-c714-4185-a069-9a0dc044fdef"
      },
      "outputs": [
        {
          "name": "stderr",
          "output_type": "stream",
          "text": [
            "INFO:pytorch_lightning.utilities.rank_zero:GPU available: True (cuda), used: True\n",
            "INFO:pytorch_lightning.utilities.rank_zero:TPU available: False, using: 0 TPU cores\n",
            "INFO:pytorch_lightning.utilities.rank_zero:IPU available: False, using: 0 IPUs\n",
            "INFO:pytorch_lightning.utilities.rank_zero:HPU available: False, using: 0 HPUs\n",
            "WARNING:pytorch_lightning.loggers.tensorboard:Missing logger folder: lightning_logs\n",
            "INFO:pytorch_lightning.utilities.rank_zero:Restoring states from the checkpoint path at /content/drive/My Drive/680/Final Project/model_partB/epoch=17_Model.ckpt\n",
            "INFO:pytorch_lightning.accelerators.cuda:LOCAL_RANK: 0 - CUDA_VISIBLE_DEVICES: [0]\n",
            "INFO:pytorch_lightning.callbacks.model_summary:\n",
            "  | Name             | Type       | Params\n",
            "------------------------------------------------\n",
            "0 | bceloss          | BCELoss    | 0     \n",
            "1 | mask_conv_layers | Sequential | 2.6 M \n",
            "2 | boxmod           | BoxHead    | 13.9 M\n",
            "------------------------------------------------\n",
            "16.5 M    Trainable params\n",
            "0         Non-trainable params\n",
            "16.5 M    Total params\n",
            "66.142    Total estimated model params size (MB)\n",
            "INFO:pytorch_lightning.utilities.rank_zero:Restored all states from the checkpoint file at /content/drive/My Drive/680/Final Project/model_partB/epoch=17_Model.ckpt\n"
          ]
        },
        {
          "data": {
            "application/vnd.jupyter.widget-view+json": {
              "model_id": "033e29e7320d4c57b970eddb08956fe8",
              "version_major": 2,
              "version_minor": 0
            },
            "text/plain": [
              "Sanity Checking: 0it [00:00, ?it/s]"
            ]
          },
          "metadata": {},
          "output_type": "display_data"
        },
        {
          "data": {
            "application/vnd.jupyter.widget-view+json": {
              "model_id": "c601fcb93d944793a1a869846abfc1bc",
              "version_major": 2,
              "version_minor": 0
            },
            "text/plain": [
              "Training: 2612it [00:00, ?it/s]"
            ]
          },
          "metadata": {},
          "output_type": "display_data"
        }
      ],
      "source": [
        "model= MaskHead().to(device)\n",
        "checkpoint_callback = pl.callbacks.ModelCheckpoint(dirpath='/content/drive/My Drive/680/Final Project/model_partB/', every_n_epochs=1, filename='{epoch}_Model')\n",
        "tb_logger = pl_loggers.TensorBoardLogger('')\n",
        "# Train\n",
        "# trainer = pl.Trainer(logger=tb_logger, max_epochs=36, callbacks=[checkpoint_callback], accelerator='cuda')          \n",
        "trainer = pl.Trainer(logger=tb_logger, max_epochs=30, callbacks=[checkpoint_callback], accelerator='cuda', resume_from_checkpoint='/content/drive/My Drive/680/Final Project/model_partB/epoch=17_Model.ckpt')\n",
        "\n",
        "trainer.fit(model, train_loader, test_loader)\n"
      ]
    },
    {
      "cell_type": "markdown",
      "metadata": {
        "id": "0by97Q9laS7l"
      },
      "source": [
        "# Part C Run to get Results"
      ]
    },
    {
      "cell_type": "code",
      "execution_count": 16,
      "metadata": {
        "id": "6-SZ1YtOa7yN"
      },
      "outputs": [],
      "source": [
        "def plot_graphs():\n",
        "  \n",
        " # Training\n",
        "  total_loss =  [177.24767166182147, 138.52391692537407, 131.77217578068436, 126.3572218193848, 123.16004291732808, 119.50282886041248, 116.24466387799016, 107.09541994407914, 104.50878511220353, 103.0367040864515, 101.81106712258668, 100.71092481805738, 98.81564940878837, 98.5757371746524, 98.40941324475641, 98.26293197136597, 98.12876268212717, 97.9961560157993]\n",
        "  \n",
        "  # Validation\n",
        "  total_val_loss = [150.59209733626378, 133.3851985024719, 129.45941855807206, 128.60538936822832, 123.62387726870102, 121.94429120674135, 119.47881292860818, 115.96555331563039, 116.21190766562671, 116.54303716651742, 117.70053519118153, 118.30800952985625, 117.99692184734096, 118.35164105305024, 118.6520880241375, 118.86217625552587, 118.96418489416222, 119.13126967098144]\n",
        "  \n",
        "  # Training Loss vs Epochs\n",
        "  plt.plot(range(len(total_loss)), total_loss, label=\"Train Loss\")\n",
        "  plt.plot(range(len(total_val_loss)), total_val_loss, label=\"Validation Loss\")\n",
        "  plt.title(\"Epoch Vs Total Loss\")\n",
        "  plt.legend()\n",
        "  plt.xlabel(\"Epochs\")\n",
        "  plt.ylabel(\"Loss\")\n",
        "  plt.show()\n"
      ]
    },
    {
      "cell_type": "code",
      "execution_count": 17,
      "metadata": {
        "colab": {
          "base_uri": "https://localhost:8080/",
          "height": 295
        },
        "id": "gTCLXa_Na8S_",
        "outputId": "d03810f6-e006-4cd9-b4f6-cc7b16eb22d7"
      },
      "outputs": [
        {
          "data": {
            "image/png": "[encoded data removed]",
            "text/plain": [
              "<Figure size 432x288 with 1 Axes>"
            ]
          },
          "metadata": {
            "needs_background": "light"
          },
          "output_type": "display_data"
        }
      ],
      "source": [
        "plot_graphs()"
      ]
    },
    {
      "cell_type": "code",
      "execution_count": 14,
      "metadata": {
        "id": "7KCKwGnLGjuz"
      },
      "outputs": [],
      "source": [
        "device = 'cuda'\n",
        "model = MaskHead.load_from_checkpoint(checkpoint_path='/content/drive/My Drive/680/Final Project/model_partB/epoch=17_Model.ckpt')\n",
        "model =  model.to(device)"
      ]
    },
    {
      "cell_type": "code",
      "execution_count": null,
      "metadata": {
        "colab": {
          "base_uri": "https://localhost:8080/",
          "height": 269
        },
        "id": "V7wpgvVBUnZg",
        "outputId": "861f0d0a-4eaf-4b7b-a935-2ab588dfcbfe"
      },
      "outputs": [
        {
          "data": {
            "image/png": "[encoded data removed]",
            "text/plain": [
              "<Figure size 432x288 with 1 Axes>"
            ]
          },
          "metadata": {
            "needs_background": "light"
          },
          "output_type": "display_data"
        }
      ],
      "source": [
        "for iter, batch in enumerate(train_loader, 0):\n",
        "  images, labels, boxes, masks, indexes = batch\n",
        "  break\n",
        "images = images.to(device)\n",
        "finconfs, finboxes, finlabs, maskpred, gt_masks = model.trainprocess(images, labels, boxes, masks)\n",
        "finboxes = finboxes.cpu().detach().numpy()\n",
        "\n",
        "c=['green', 'blue','yellow', 'red']\n",
        "bc = ['g','b','y']\n",
        "image_tar=images[0].cpu().numpy()\n",
        "x_min = image_tar.min(axis=(1, 2), keepdims=True)\n",
        "x_max = image_tar.max(axis=(1, 2), keepdims=True)\n",
        "image_tar = (image_tar - x_min)/(x_max-x_min)\n",
        "plt.imshow(np.transpose(image_tar, (1,2,0)))\n",
        "\n",
        "nos = [0,1]\n",
        "\n",
        "for no in nos:\n",
        "  clas = finlabs[no]-1\n",
        "  fullmask = torch.zeros((800,1088))\n",
        "  box=finboxes[no]\n",
        "  box[0] = np.clip(box[0], 0, 1088)\n",
        "  box[1] = np.clip(box[1], 0, 800)\n",
        "  box[2] = np.clip(box[2], 0, 1088)\n",
        "  box[3] = np.clip(box[3], 0, 800)\n",
        "  box = box.astype(int)\n",
        "  mask_overlay= nn.functional.interpolate(maskpred[no][clas].reshape(1,1,28,28), (int(box[3]- box[1]), int(box[2]- box[0])), mode='bilinear')\n",
        "  fullmask[box[1]:box[3],box[0]:box[2]]=mask_overlay[0][0]\n",
        "\n",
        "  # fullgt = torch.zeros((800,1088))\n",
        "  # gt_overlay= nn.functional.interpolate(gt_masks[no].reshape(1,1,28,28), (int(box[3]- box[1]), int(box[2]- box[0])), mode='bilinear')\n",
        "  # fullgt[box[1]:box[3],box[0]:box[2]]= gt_overlay[0][0]\n",
        "\n",
        "  plt.gca().add_patch(Rectangle((finboxes[no][0],finboxes[no][1]),(finboxes[no][2]-finboxes[no][0]),(finboxes[no][3]-finboxes[no][1]),linewidth=1,edgecolor=bc[clas],facecolor='none'))\n",
        "  plt.imshow(fullmask.cpu().detach().numpy(), cmap=ListedColormap(['none', c[clas]]), alpha= 0.5)\n",
        "  # plt.imshow(fullgt.cpu().detach().numpy(), cmap=ListedColormap(['none', 'red']), alpha=.5)\n",
        "plt.show()"
      ]
    }
  ],
  "metadata": {
    "accelerator": "GPU",
    "colab": {
      "provenance": []
    },
    "gpuClass": "standard",
    "kernelspec": {
      "display_name": "Python 3",
      "name": "python3"
    },
    "language_info": {
      "name": "python"
    },
    "widgets": {
      "application/vnd.jupyter.widget-state+json": {
        "033e29e7320d4c57b970eddb08956fe8": {
          "model_module": "@jupyter-widgets/controls",
          "model_module_version": "1.5.0",
          "model_name": "HBoxModel",
          "state": {
            "_dom_classes": [],
            "_model_module": "@jupyter-widgets/controls",
            "_model_module_version": "1.5.0",
            "_model_name": "HBoxModel",
            "_view_count": null,
            "_view_module": "@jupyter-widgets/controls",
            "_view_module_version": "1.5.0",
            "_view_name": "HBoxView",
            "box_style": "",
            "children": [
              "IPY_MODEL_16864f4229de4a25b9193093b7a886e6",
              "IPY_MODEL_ca0ba59caffc4d3abd7950369e2b9423",
              "IPY_MODEL_d8f42d4d7c284f549038de74ea12c05a"
            ],
            "layout": "IPY_MODEL_e7347d80d2174c7a944a0d5e6a83c5b4"
          }
        },
        "16864f4229de4a25b9193093b7a886e6": {
          "model_module": "@jupyter-widgets/controls",
          "model_module_version": "1.5.0",
          "model_name": "HTMLModel",
          "state": {
            "_dom_classes": [],
            "_model_module": "@jupyter-widgets/controls",
            "_model_module_version": "1.5.0",
            "_model_name": "HTMLModel",
            "_view_count": null,
            "_view_module": "@jupyter-widgets/controls",
            "_view_module_version": "1.5.0",
            "_view_name": "HTMLView",
            "description": "",
            "description_tooltip": null,
            "layout": "IPY_MODEL_c73b4e4fbc3744acae61c6acd6cec0a5",
            "placeholder": "​",
            "style": "IPY_MODEL_79bb915b3b3f464a9bd1e6a34275f224",
            "value": "Sanity Checking DataLoader 0: 100%"
          }
        },
        "17f3b357a6574f72a5eb1fe0a2b9cd8a": {
          "model_module": "@jupyter-widgets/controls",
          "model_module_version": "1.5.0",
          "model_name": "HTMLModel",
          "state": {
            "_dom_classes": [],
            "_model_module": "@jupyter-widgets/controls",
            "_model_module_version": "1.5.0",
            "_model_name": "HTMLModel",
            "_view_count": null,
            "_view_module": "@jupyter-widgets/controls",
            "_view_module_version": "1.5.0",
            "_view_name": "HTMLView",
            "description": "",
            "description_tooltip": null,
            "layout": "IPY_MODEL_6e4b0c7380bd4599afdd8556e12a1771",
            "placeholder": "​",
            "style": "IPY_MODEL_4d4696b4ede244a2939ef5c46cbee9a5",
            "value": "Epoch 18:   0%"
          }
        },
        "1a8c02f2aaf74067b0229529430ea73a": {
          "model_module": "@jupyter-widgets/controls",
          "model_module_version": "1.5.0",
          "model_name": "ProgressStyleModel",
          "state": {
            "_model_module": "@jupyter-widgets/controls",
            "_model_module_version": "1.5.0",
            "_model_name": "ProgressStyleModel",
            "_view_count": null,
            "_view_module": "@jupyter-widgets/base",
            "_view_module_version": "1.2.0",
            "_view_name": "StyleView",
            "bar_color": null,
            "description_width": ""
          }
        },
        "21d221331f52425ab58f0fb59fe98372": {
          "model_module": "@jupyter-widgets/controls",
          "model_module_version": "1.5.0",
          "model_name": "HTMLModel",
          "state": {
            "_dom_classes": [],
            "_model_module": "@jupyter-widgets/controls",
            "_model_module_version": "1.5.0",
            "_model_name": "HTMLModel",
            "_view_count": null,
            "_view_module": "@jupyter-widgets/controls",
            "_view_module_version": "1.5.0",
            "_view_name": "HTMLView",
            "description": "",
            "description_tooltip": null,
            "layout": "IPY_MODEL_8ad6c62c10804edab202c4acd018a38f",
            "placeholder": "​",
            "style": "IPY_MODEL_c1af66f0ad2e4a4780a338057ad92e9d",
            "value": "100%"
          }
        },
        "26e88027b3a34331ade91c8a63b21818": {
          "model_module": "@jupyter-widgets/base",
          "model_module_version": "1.2.0",
          "model_name": "LayoutModel",
          "state": {
            "_model_module": "@jupyter-widgets/base",
            "_model_module_version": "1.2.0",
            "_model_name": "LayoutModel",
            "_view_count": null,
            "_view_module": "@jupyter-widgets/base",
            "_view_module_version": "1.2.0",
            "_view_name": "LayoutView",
            "align_content": null,
            "align_items": null,
            "align_self": null,
            "border": null,
            "bottom": null,
            "display": null,
            "flex": null,
            "flex_flow": null,
            "grid_area": null,
            "grid_auto_columns": null,
            "grid_auto_flow": null,
            "grid_auto_rows": null,
            "grid_column": null,
            "grid_gap": null,
            "grid_row": null,
            "grid_template_areas": null,
            "grid_template_columns": null,
            "grid_template_rows": null,
            "height": null,
            "justify_content": null,
            "justify_items": null,
            "left": null,
            "margin": null,
            "max_height": null,
            "max_width": null,
            "min_height": null,
            "min_width": null,
            "object_fit": null,
            "object_position": null,
            "order": null,
            "overflow": null,
            "overflow_x": null,
            "overflow_y": null,
            "padding": null,
            "right": null,
            "top": null,
            "visibility": null,
            "width": null
          }
        },
        "356f27a0e0b741d79add137efa838fe4": {
          "model_module": "@jupyter-widgets/controls",
          "model_module_version": "1.5.0",
          "model_name": "FloatProgressModel",
          "state": {
            "_dom_classes": [],
            "_model_module": "@jupyter-widgets/controls",
            "_model_module_version": "1.5.0",
            "_model_name": "FloatProgressModel",
            "_view_count": null,
            "_view_module": "@jupyter-widgets/controls",
            "_view_module_version": "1.5.0",
            "_view_name": "ProgressView",
            "bar_style": "",
            "description": "",
            "description_tooltip": null,
            "layout": "IPY_MODEL_c7d53688907147fe9e08552a8b48e73f",
            "max": 3265,
            "min": 0,
            "orientation": "horizontal",
            "style": "IPY_MODEL_1a8c02f2aaf74067b0229529430ea73a",
            "value": 8
          }
        },
        "38934b9845614c6bbc7135042b4dc871": {
          "model_module": "@jupyter-widgets/base",
          "model_module_version": "1.2.0",
          "model_name": "LayoutModel",
          "state": {
            "_model_module": "@jupyter-widgets/base",
            "_model_module_version": "1.2.0",
            "_model_name": "LayoutModel",
            "_view_count": null,
            "_view_module": "@jupyter-widgets/base",
            "_view_module_version": "1.2.0",
            "_view_name": "LayoutView",
            "align_content": null,
            "align_items": null,
            "align_self": null,
            "border": null,
            "bottom": null,
            "display": null,
            "flex": null,
            "flex_flow": null,
            "grid_area": null,
            "grid_auto_columns": null,
            "grid_auto_flow": null,
            "grid_auto_rows": null,
            "grid_column": null,
            "grid_gap": null,
            "grid_row": null,
            "grid_template_areas": null,
            "grid_template_columns": null,
            "grid_template_rows": null,
            "height": null,
            "justify_content": null,
            "justify_items": null,
            "left": null,
            "margin": null,
            "max_height": null,
            "max_width": null,
            "min_height": null,
            "min_width": null,
            "object_fit": null,
            "object_position": null,
            "order": null,
            "overflow": null,
            "overflow_x": null,
            "overflow_y": null,
            "padding": null,
            "right": null,
            "top": null,
            "visibility": null,
            "width": null
          }
        },
        "398f3a67c3604bab9cbc34eaace1400f": {
          "model_module": "@jupyter-widgets/controls",
          "model_module_version": "1.5.0",
          "model_name": "DescriptionStyleModel",
          "state": {
            "_model_module": "@jupyter-widgets/controls",
            "_model_module_version": "1.5.0",
            "_model_name": "DescriptionStyleModel",
            "_view_count": null,
            "_view_module": "@jupyter-widgets/base",
            "_view_module_version": "1.2.0",
            "_view_name": "StyleView",
            "description_width": ""
          }
        },
        "3b74446bc2fe42b1a9db6751c8dec32e": {
          "model_module": "@jupyter-widgets/controls",
          "model_module_version": "1.5.0",
          "model_name": "DescriptionStyleModel",
          "state": {
            "_model_module": "@jupyter-widgets/controls",
            "_model_module_version": "1.5.0",
            "_model_name": "DescriptionStyleModel",
            "_view_count": null,
            "_view_module": "@jupyter-widgets/base",
            "_view_module_version": "1.2.0",
            "_view_name": "StyleView",
            "description_width": ""
          }
        },
        "4d4696b4ede244a2939ef5c46cbee9a5": {
          "model_module": "@jupyter-widgets/controls",
          "model_module_version": "1.5.0",
          "model_name": "DescriptionStyleModel",
          "state": {
            "_model_module": "@jupyter-widgets/controls",
            "_model_module_version": "1.5.0",
            "_model_name": "DescriptionStyleModel",
            "_view_count": null,
            "_view_module": "@jupyter-widgets/base",
            "_view_module_version": "1.2.0",
            "_view_name": "StyleView",
            "description_width": ""
          }
        },
        "639544abcc4a4a7baa56c063ee2b9067": {
          "model_module": "@jupyter-widgets/base",
          "model_module_version": "1.2.0",
          "model_name": "LayoutModel",
          "state": {
            "_model_module": "@jupyter-widgets/base",
            "_model_module_version": "1.2.0",
            "_model_name": "LayoutModel",
            "_view_count": null,
            "_view_module": "@jupyter-widgets/base",
            "_view_module_version": "1.2.0",
            "_view_name": "LayoutView",
            "align_content": null,
            "align_items": null,
            "align_self": null,
            "border": null,
            "bottom": null,
            "display": null,
            "flex": null,
            "flex_flow": null,
            "grid_area": null,
            "grid_auto_columns": null,
            "grid_auto_flow": null,
            "grid_auto_rows": null,
            "grid_column": null,
            "grid_gap": null,
            "grid_row": null,
            "grid_template_areas": null,
            "grid_template_columns": null,
            "grid_template_rows": null,
            "height": null,
            "justify_content": null,
            "justify_items": null,
            "left": null,
            "margin": null,
            "max_height": null,
            "max_width": null,
            "min_height": null,
            "min_width": null,
            "object_fit": null,
            "object_position": null,
            "order": null,
            "overflow": null,
            "overflow_x": null,
            "overflow_y": null,
            "padding": null,
            "right": null,
            "top": null,
            "visibility": null,
            "width": null
          }
        },
        "6d536df5157d4ef6b30e1ef276169848": {
          "model_module": "@jupyter-widgets/controls",
          "model_module_version": "1.5.0",
          "model_name": "FloatProgressModel",
          "state": {
            "_dom_classes": [],
            "_model_module": "@jupyter-widgets/controls",
            "_model_module_version": "1.5.0",
            "_model_name": "FloatProgressModel",
            "_view_count": null,
            "_view_module": "@jupyter-widgets/controls",
            "_view_module_version": "1.5.0",
            "_view_name": "ProgressView",
            "bar_style": "success",
            "description": "",
            "description_tooltip": null,
            "layout": "IPY_MODEL_38934b9845614c6bbc7135042b4dc871",
            "max": 102530333,
            "min": 0,
            "orientation": "horizontal",
            "style": "IPY_MODEL_ef7a655335464adaa1ff33019c41fc31",
            "value": 102530333
          }
        },
        "6e4b0c7380bd4599afdd8556e12a1771": {
          "model_module": "@jupyter-widgets/base",
          "model_module_version": "1.2.0",
          "model_name": "LayoutModel",
          "state": {
            "_model_module": "@jupyter-widgets/base",
            "_model_module_version": "1.2.0",
            "_model_name": "LayoutModel",
            "_view_count": null,
            "_view_module": "@jupyter-widgets/base",
            "_view_module_version": "1.2.0",
            "_view_name": "LayoutView",
            "align_content": null,
            "align_items": null,
            "align_self": null,
            "border": null,
            "bottom": null,
            "display": null,
            "flex": null,
            "flex_flow": null,
            "grid_area": null,
            "grid_auto_columns": null,
            "grid_auto_flow": null,
            "grid_auto_rows": null,
            "grid_column": null,
            "grid_gap": null,
            "grid_row": null,
            "grid_template_areas": null,
            "grid_template_columns": null,
            "grid_template_rows": null,
            "height": null,
            "justify_content": null,
            "justify_items": null,
            "left": null,
            "margin": null,
            "max_height": null,
            "max_width": null,
            "min_height": null,
            "min_width": null,
            "object_fit": null,
            "object_position": null,
            "order": null,
            "overflow": null,
            "overflow_x": null,
            "overflow_y": null,
            "padding": null,
            "right": null,
            "top": null,
            "visibility": null,
            "width": null
          }
        },
        "72b010177c174eb1af5e6ab134105be5": {
          "model_module": "@jupyter-widgets/base",
          "model_module_version": "1.2.0",
          "model_name": "LayoutModel",
          "state": {
            "_model_module": "@jupyter-widgets/base",
            "_model_module_version": "1.2.0",
            "_model_name": "LayoutModel",
            "_view_count": null,
            "_view_module": "@jupyter-widgets/base",
            "_view_module_version": "1.2.0",
            "_view_name": "LayoutView",
            "align_content": null,
            "align_items": null,
            "align_self": null,
            "border": null,
            "bottom": null,
            "display": "inline-flex",
            "flex": null,
            "flex_flow": "row wrap",
            "grid_area": null,
            "grid_auto_columns": null,
            "grid_auto_flow": null,
            "grid_auto_rows": null,
            "grid_column": null,
            "grid_gap": null,
            "grid_row": null,
            "grid_template_areas": null,
            "grid_template_columns": null,
            "grid_template_rows": null,
            "height": null,
            "justify_content": null,
            "justify_items": null,
            "left": null,
            "margin": null,
            "max_height": null,
            "max_width": null,
            "min_height": null,
            "min_width": null,
            "object_fit": null,
            "object_position": null,
            "order": null,
            "overflow": null,
            "overflow_x": null,
            "overflow_y": null,
            "padding": null,
            "right": null,
            "top": null,
            "visibility": null,
            "width": "100%"
          }
        },
        "79bb915b3b3f464a9bd1e6a34275f224": {
          "model_module": "@jupyter-widgets/controls",
          "model_module_version": "1.5.0",
          "model_name": "DescriptionStyleModel",
          "state": {
            "_model_module": "@jupyter-widgets/controls",
            "_model_module_version": "1.5.0",
            "_model_name": "DescriptionStyleModel",
            "_view_count": null,
            "_view_module": "@jupyter-widgets/base",
            "_view_module_version": "1.2.0",
            "_view_name": "StyleView",
            "description_width": ""
          }
        },
        "868622047bb349b9a325c2f0a4514d70": {
          "model_module": "@jupyter-widgets/controls",
          "model_module_version": "1.5.0",
          "model_name": "DescriptionStyleModel",
          "state": {
            "_model_module": "@jupyter-widgets/controls",
            "_model_module_version": "1.5.0",
            "_model_name": "DescriptionStyleModel",
            "_view_count": null,
            "_view_module": "@jupyter-widgets/base",
            "_view_module_version": "1.2.0",
            "_view_name": "StyleView",
            "description_width": ""
          }
        },
        "8a011c2cecf14fc4a13cdf0998f70474": {
          "model_module": "@jupyter-widgets/controls",
          "model_module_version": "1.5.0",
          "model_name": "HBoxModel",
          "state": {
            "_dom_classes": [],
            "_model_module": "@jupyter-widgets/controls",
            "_model_module_version": "1.5.0",
            "_model_name": "HBoxModel",
            "_view_count": null,
            "_view_module": "@jupyter-widgets/controls",
            "_view_module_version": "1.5.0",
            "_view_name": "HBoxView",
            "box_style": "",
            "children": [
              "IPY_MODEL_21d221331f52425ab58f0fb59fe98372",
              "IPY_MODEL_6d536df5157d4ef6b30e1ef276169848",
              "IPY_MODEL_d61de0e11449470dbc3da8d95efd067f"
            ],
            "layout": "IPY_MODEL_26e88027b3a34331ade91c8a63b21818"
          }
        },
        "8ad6c62c10804edab202c4acd018a38f": {
          "model_module": "@jupyter-widgets/base",
          "model_module_version": "1.2.0",
          "model_name": "LayoutModel",
          "state": {
            "_model_module": "@jupyter-widgets/base",
            "_model_module_version": "1.2.0",
            "_model_name": "LayoutModel",
            "_view_count": null,
            "_view_module": "@jupyter-widgets/base",
            "_view_module_version": "1.2.0",
            "_view_name": "LayoutView",
            "align_content": null,
            "align_items": null,
            "align_self": null,
            "border": null,
            "bottom": null,
            "display": null,
            "flex": null,
            "flex_flow": null,
            "grid_area": null,
            "grid_auto_columns": null,
            "grid_auto_flow": null,
            "grid_auto_rows": null,
            "grid_column": null,
            "grid_gap": null,
            "grid_row": null,
            "grid_template_areas": null,
            "grid_template_columns": null,
            "grid_template_rows": null,
            "height": null,
            "justify_content": null,
            "justify_items": null,
            "left": null,
            "margin": null,
            "max_height": null,
            "max_width": null,
            "min_height": null,
            "min_width": null,
            "object_fit": null,
            "object_position": null,
            "order": null,
            "overflow": null,
            "overflow_x": null,
            "overflow_y": null,
            "padding": null,
            "right": null,
            "top": null,
            "visibility": null,
            "width": null
          }
        },
        "a5185e5c8bd54a24a576638873dfdeea": {
          "model_module": "@jupyter-widgets/base",
          "model_module_version": "1.2.0",
          "model_name": "LayoutModel",
          "state": {
            "_model_module": "@jupyter-widgets/base",
            "_model_module_version": "1.2.0",
            "_model_name": "LayoutModel",
            "_view_count": null,
            "_view_module": "@jupyter-widgets/base",
            "_view_module_version": "1.2.0",
            "_view_name": "LayoutView",
            "align_content": null,
            "align_items": null,
            "align_self": null,
            "border": null,
            "bottom": null,
            "display": null,
            "flex": "2",
            "flex_flow": null,
            "grid_area": null,
            "grid_auto_columns": null,
            "grid_auto_flow": null,
            "grid_auto_rows": null,
            "grid_column": null,
            "grid_gap": null,
            "grid_row": null,
            "grid_template_areas": null,
            "grid_template_columns": null,
            "grid_template_rows": null,
            "height": null,
            "justify_content": null,
            "justify_items": null,
            "left": null,
            "margin": null,
            "max_height": null,
            "max_width": null,
            "min_height": null,
            "min_width": null,
            "object_fit": null,
            "object_position": null,
            "order": null,
            "overflow": null,
            "overflow_x": null,
            "overflow_y": null,
            "padding": null,
            "right": null,
            "top": null,
            "visibility": null,
            "width": null
          }
        },
        "bea075a6a33144a1b45ada3e2fa40aba": {
          "model_module": "@jupyter-widgets/base",
          "model_module_version": "1.2.0",
          "model_name": "LayoutModel",
          "state": {
            "_model_module": "@jupyter-widgets/base",
            "_model_module_version": "1.2.0",
            "_model_name": "LayoutModel",
            "_view_count": null,
            "_view_module": "@jupyter-widgets/base",
            "_view_module_version": "1.2.0",
            "_view_name": "LayoutView",
            "align_content": null,
            "align_items": null,
            "align_self": null,
            "border": null,
            "bottom": null,
            "display": null,
            "flex": null,
            "flex_flow": null,
            "grid_area": null,
            "grid_auto_columns": null,
            "grid_auto_flow": null,
            "grid_auto_rows": null,
            "grid_column": null,
            "grid_gap": null,
            "grid_row": null,
            "grid_template_areas": null,
            "grid_template_columns": null,
            "grid_template_rows": null,
            "height": null,
            "justify_content": null,
            "justify_items": null,
            "left": null,
            "margin": null,
            "max_height": null,
            "max_width": null,
            "min_height": null,
            "min_width": null,
            "object_fit": null,
            "object_position": null,
            "order": null,
            "overflow": null,
            "overflow_x": null,
            "overflow_y": null,
            "padding": null,
            "right": null,
            "top": null,
            "visibility": null,
            "width": null
          }
        },
        "c1af66f0ad2e4a4780a338057ad92e9d": {
          "model_module": "@jupyter-widgets/controls",
          "model_module_version": "1.5.0",
          "model_name": "DescriptionStyleModel",
          "state": {
            "_model_module": "@jupyter-widgets/controls",
            "_model_module_version": "1.5.0",
            "_model_name": "DescriptionStyleModel",
            "_view_count": null,
            "_view_module": "@jupyter-widgets/base",
            "_view_module_version": "1.2.0",
            "_view_name": "StyleView",
            "description_width": ""
          }
        },
        "c601fcb93d944793a1a869846abfc1bc": {
          "model_module": "@jupyter-widgets/controls",
          "model_module_version": "1.5.0",
          "model_name": "HBoxModel",
          "state": {
            "_dom_classes": [],
            "_model_module": "@jupyter-widgets/controls",
            "_model_module_version": "1.5.0",
            "_model_name": "HBoxModel",
            "_view_count": null,
            "_view_module": "@jupyter-widgets/controls",
            "_view_module_version": "1.5.0",
            "_view_name": "HBoxView",
            "box_style": "",
            "children": [
              "IPY_MODEL_17f3b357a6574f72a5eb1fe0a2b9cd8a",
              "IPY_MODEL_356f27a0e0b741d79add137efa838fe4",
              "IPY_MODEL_d6afe0f89fb743518fb712b46c052c9a"
            ],
            "layout": "IPY_MODEL_72b010177c174eb1af5e6ab134105be5"
          }
        },
        "c73b4e4fbc3744acae61c6acd6cec0a5": {
          "model_module": "@jupyter-widgets/base",
          "model_module_version": "1.2.0",
          "model_name": "LayoutModel",
          "state": {
            "_model_module": "@jupyter-widgets/base",
            "_model_module_version": "1.2.0",
            "_model_name": "LayoutModel",
            "_view_count": null,
            "_view_module": "@jupyter-widgets/base",
            "_view_module_version": "1.2.0",
            "_view_name": "LayoutView",
            "align_content": null,
            "align_items": null,
            "align_self": null,
            "border": null,
            "bottom": null,
            "display": null,
            "flex": null,
            "flex_flow": null,
            "grid_area": null,
            "grid_auto_columns": null,
            "grid_auto_flow": null,
            "grid_auto_rows": null,
            "grid_column": null,
            "grid_gap": null,
            "grid_row": null,
            "grid_template_areas": null,
            "grid_template_columns": null,
            "grid_template_rows": null,
            "height": null,
            "justify_content": null,
            "justify_items": null,
            "left": null,
            "margin": null,
            "max_height": null,
            "max_width": null,
            "min_height": null,
            "min_width": null,
            "object_fit": null,
            "object_position": null,
            "order": null,
            "overflow": null,
            "overflow_x": null,
            "overflow_y": null,
            "padding": null,
            "right": null,
            "top": null,
            "visibility": null,
            "width": null
          }
        },
        "c7d53688907147fe9e08552a8b48e73f": {
          "model_module": "@jupyter-widgets/base",
          "model_module_version": "1.2.0",
          "model_name": "LayoutModel",
          "state": {
            "_model_module": "@jupyter-widgets/base",
            "_model_module_version": "1.2.0",
            "_model_name": "LayoutModel",
            "_view_count": null,
            "_view_module": "@jupyter-widgets/base",
            "_view_module_version": "1.2.0",
            "_view_name": "LayoutView",
            "align_content": null,
            "align_items": null,
            "align_self": null,
            "border": null,
            "bottom": null,
            "display": null,
            "flex": "2",
            "flex_flow": null,
            "grid_area": null,
            "grid_auto_columns": null,
            "grid_auto_flow": null,
            "grid_auto_rows": null,
            "grid_column": null,
            "grid_gap": null,
            "grid_row": null,
            "grid_template_areas": null,
            "grid_template_columns": null,
            "grid_template_rows": null,
            "height": null,
            "justify_content": null,
            "justify_items": null,
            "left": null,
            "margin": null,
            "max_height": null,
            "max_width": null,
            "min_height": null,
            "min_width": null,
            "object_fit": null,
            "object_position": null,
            "order": null,
            "overflow": null,
            "overflow_x": null,
            "overflow_y": null,
            "padding": null,
            "right": null,
            "top": null,
            "visibility": null,
            "width": null
          }
        },
        "ca0ba59caffc4d3abd7950369e2b9423": {
          "model_module": "@jupyter-widgets/controls",
          "model_module_version": "1.5.0",
          "model_name": "FloatProgressModel",
          "state": {
            "_dom_classes": [],
            "_model_module": "@jupyter-widgets/controls",
            "_model_module_version": "1.5.0",
            "_model_name": "FloatProgressModel",
            "_view_count": null,
            "_view_module": "@jupyter-widgets/controls",
            "_view_module_version": "1.5.0",
            "_view_name": "ProgressView",
            "bar_style": "",
            "description": "",
            "description_tooltip": null,
            "layout": "IPY_MODEL_a5185e5c8bd54a24a576638873dfdeea",
            "max": 2,
            "min": 0,
            "orientation": "horizontal",
            "style": "IPY_MODEL_f424512c230c411fac650940269c59cb",
            "value": 2
          }
        },
        "d01b7982a42440b5aabb222d1220fd53": {
          "model_module": "@jupyter-widgets/base",
          "model_module_version": "1.2.0",
          "model_name": "LayoutModel",
          "state": {
            "_model_module": "@jupyter-widgets/base",
            "_model_module_version": "1.2.0",
            "_model_name": "LayoutModel",
            "_view_count": null,
            "_view_module": "@jupyter-widgets/base",
            "_view_module_version": "1.2.0",
            "_view_name": "LayoutView",
            "align_content": null,
            "align_items": null,
            "align_self": null,
            "border": null,
            "bottom": null,
            "display": null,
            "flex": null,
            "flex_flow": null,
            "grid_area": null,
            "grid_auto_columns": null,
            "grid_auto_flow": null,
            "grid_auto_rows": null,
            "grid_column": null,
            "grid_gap": null,
            "grid_row": null,
            "grid_template_areas": null,
            "grid_template_columns": null,
            "grid_template_rows": null,
            "height": null,
            "justify_content": null,
            "justify_items": null,
            "left": null,
            "margin": null,
            "max_height": null,
            "max_width": null,
            "min_height": null,
            "min_width": null,
            "object_fit": null,
            "object_position": null,
            "order": null,
            "overflow": null,
            "overflow_x": null,
            "overflow_y": null,
            "padding": null,
            "right": null,
            "top": null,
            "visibility": null,
            "width": null
          }
        },
        "d61de0e11449470dbc3da8d95efd067f": {
          "model_module": "@jupyter-widgets/controls",
          "model_module_version": "1.5.0",
          "model_name": "HTMLModel",
          "state": {
            "_dom_classes": [],
            "_model_module": "@jupyter-widgets/controls",
            "_model_module_version": "1.5.0",
            "_model_name": "HTMLModel",
            "_view_count": null,
            "_view_module": "@jupyter-widgets/controls",
            "_view_module_version": "1.5.0",
            "_view_name": "HTMLView",
            "description": "",
            "description_tooltip": null,
            "layout": "IPY_MODEL_d01b7982a42440b5aabb222d1220fd53",
            "placeholder": "​",
            "style": "IPY_MODEL_3b74446bc2fe42b1a9db6751c8dec32e",
            "value": " 97.8M/97.8M [00:00&lt;00:00, 218MB/s]"
          }
        },
        "d6afe0f89fb743518fb712b46c052c9a": {
          "model_module": "@jupyter-widgets/controls",
          "model_module_version": "1.5.0",
          "model_name": "HTMLModel",
          "state": {
            "_dom_classes": [],
            "_model_module": "@jupyter-widgets/controls",
            "_model_module_version": "1.5.0",
            "_model_name": "HTMLModel",
            "_view_count": null,
            "_view_module": "@jupyter-widgets/controls",
            "_view_module_version": "1.5.0",
            "_view_name": "HTMLView",
            "description": "",
            "description_tooltip": null,
            "layout": "IPY_MODEL_bea075a6a33144a1b45ada3e2fa40aba",
            "placeholder": "​",
            "style": "IPY_MODEL_868622047bb349b9a325c2f0a4514d70",
            "value": " 8/3265 [00:03&lt;24:32,  2.21it/s, loss=93.4, v_num=0, train_loss=75.00]"
          }
        },
        "d8f42d4d7c284f549038de74ea12c05a": {
          "model_module": "@jupyter-widgets/controls",
          "model_module_version": "1.5.0",
          "model_name": "HTMLModel",
          "state": {
            "_dom_classes": [],
            "_model_module": "@jupyter-widgets/controls",
            "_model_module_version": "1.5.0",
            "_model_name": "HTMLModel",
            "_view_count": null,
            "_view_module": "@jupyter-widgets/controls",
            "_view_module_version": "1.5.0",
            "_view_name": "HTMLView",
            "description": "",
            "description_tooltip": null,
            "layout": "IPY_MODEL_639544abcc4a4a7baa56c063ee2b9067",
            "placeholder": "​",
            "style": "IPY_MODEL_398f3a67c3604bab9cbc34eaace1400f",
            "value": " 2/2 [00:06&lt;00:00,  3.45s/it]"
          }
        },
        "e7347d80d2174c7a944a0d5e6a83c5b4": {
          "model_module": "@jupyter-widgets/base",
          "model_module_version": "1.2.0",
          "model_name": "LayoutModel",
          "state": {
            "_model_module": "@jupyter-widgets/base",
            "_model_module_version": "1.2.0",
            "_model_name": "LayoutModel",
            "_view_count": null,
            "_view_module": "@jupyter-widgets/base",
            "_view_module_version": "1.2.0",
            "_view_name": "LayoutView",
            "align_content": null,
            "align_items": null,
            "align_self": null,
            "border": null,
            "bottom": null,
            "display": "inline-flex",
            "flex": null,
            "flex_flow": "row wrap",
            "grid_area": null,
            "grid_auto_columns": null,
            "grid_auto_flow": null,
            "grid_auto_rows": null,
            "grid_column": null,
            "grid_gap": null,
            "grid_row": null,
            "grid_template_areas": null,
            "grid_template_columns": null,
            "grid_template_rows": null,
            "height": null,
            "justify_content": null,
            "justify_items": null,
            "left": null,
            "margin": null,
            "max_height": null,
            "max_width": null,
            "min_height": null,
            "min_width": null,
            "object_fit": null,
            "object_position": null,
            "order": null,
            "overflow": null,
            "overflow_x": null,
            "overflow_y": null,
            "padding": null,
            "right": null,
            "top": null,
            "visibility": "hidden",
            "width": "100%"
          }
        },
        "ef7a655335464adaa1ff33019c41fc31": {
          "model_module": "@jupyter-widgets/controls",
          "model_module_version": "1.5.0",
          "model_name": "ProgressStyleModel",
          "state": {
            "_model_module": "@jupyter-widgets/controls",
            "_model_module_version": "1.5.0",
            "_model_name": "ProgressStyleModel",
            "_view_count": null,
            "_view_module": "@jupyter-widgets/base",
            "_view_module_version": "1.2.0",
            "_view_name": "StyleView",
            "bar_color": null,
            "description_width": ""
          }
        },
        "f424512c230c411fac650940269c59cb": {
          "model_module": "@jupyter-widgets/controls",
          "model_module_version": "1.5.0",
          "model_name": "ProgressStyleModel",
          "state": {
            "_model_module": "@jupyter-widgets/controls",
            "_model_module_version": "1.5.0",
            "_model_name": "ProgressStyleModel",
            "_view_count": null,
            "_view_module": "@jupyter-widgets/base",
            "_view_module_version": "1.2.0",
            "_view_name": "StyleView",
            "bar_color": null,
            "description_width": ""
          }
        }
      }
    }
  },
  "nbformat": 4,
  "nbformat_minor": 0
}
